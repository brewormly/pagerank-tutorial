{
 "cells": [
  {
   "cell_type": "markdown",
   "metadata": {},
   "source": [
    "# PageRank Exercise\n",
    "\n",
    "In this notebook, I implemented an iterative python version of the PageRank algorithm using the pseudo code of the exercises' solution. You can play around a bit with the graph and see how the PageRank of a node changes with the number of iterations."
   ]
  },
  {
   "cell_type": "code",
   "execution_count": 1,
   "metadata": {},
   "outputs": [
    {
     "name": "stdout",
     "output_type": "stream",
     "text": [
      "Requirement already satisfied: networkx[default] in /opt/conda/lib/python3.8/site-packages (2.4)\n",
      "\u001b[33m  WARNING: networkx 2.4 does not provide the extra 'default'\u001b[0m\n",
      "Requirement already satisfied: decorator>=4.3.0 in /opt/conda/lib/python3.8/site-packages (from networkx[default]) (4.4.2)\n"
     ]
    }
   ],
   "source": [
    "# There is this nice python library, which allows you to create graphs quickly.\n",
    "!pip install networkx[default]\n",
    "import networkx as nx"
   ]
  },
  {
   "cell_type": "markdown",
   "metadata": {},
   "source": [
    "For this example, I use the graph made by wikipedia author \"Von Zetkin\" (CC BY-SA 3.0, https://commons.wikimedia.org/w/index.php?curid=20368368; https://de.wikipedia.org/wiki/PageRank#/media/Datei:PageRank-Beispiel.png)\n",
    "\n",
    "![A graph](graph.png)"
   ]
  },
  {
   "cell_type": "code",
   "execution_count": 2,
   "metadata": {},
   "outputs": [],
   "source": [
    "# So let's build our graph\n",
    "\n",
    "G = nx.DiGraph()\n",
    "\n",
    "nodes = [\"A\", \"B\", \"C\", \"D\", \"E\", \"F\", \"G\", \"H\", \"I\", \"J\", \"K\"]\n",
    "edges = [\n",
    "    (\"B\", \"C\"), \n",
    "    (\"C\", \"B\"), \n",
    "    (\"D\", \"A\"),\n",
    "    (\"D\", \"B\"),\n",
    "    (\"E\", \"B\"),\n",
    "    (\"E\", \"D\"),\n",
    "    (\"E\", \"F\"),\n",
    "    (\"F\", \"B\"),\n",
    "    (\"F\", \"E\"),\n",
    "    (\"G\", \"B\"),\n",
    "    (\"G\", \"E\"),\n",
    "    (\"H\", \"B\"),\n",
    "    (\"H\", \"E\"),\n",
    "    (\"I\", \"B\"),\n",
    "    (\"I\", \"E\"),\n",
    "    (\"J\", \"E\"),\n",
    "    (\"K\", \"E\")\n",
    "]\n",
    "\n",
    "G.add_nodes_from(nodes)\n",
    "G.add_edges_from(edges)"
   ]
  },
  {
   "cell_type": "code",
   "execution_count": 3,
   "metadata": {},
   "outputs": [
    {
     "data": {
      "text/plain": [
       "11"
      ]
     },
     "execution_count": 3,
     "metadata": {},
     "output_type": "execute_result"
    }
   ],
   "source": [
    "# the number of nodes is 11\n",
    "len(G.nodes())"
   ]
  },
  {
   "cell_type": "code",
   "execution_count": 4,
   "metadata": {},
   "outputs": [
    {
     "data": {
      "text/plain": [
       "3"
      ]
     },
     "execution_count": 4,
     "metadata": {},
     "output_type": "execute_result"
    }
   ],
   "source": [
    "# we can determine the number of neighbors of a node\n",
    "len(list(G.neighbors(\"E\")))"
   ]
  },
  {
   "cell_type": "code",
   "execution_count": 5,
   "metadata": {},
   "outputs": [
    {
     "name": "stdout",
     "output_type": "stream",
     "text": [
      "B\n",
      "D\n",
      "F\n"
     ]
    }
   ],
   "source": [
    "# and we can iterate over the outgoing edges of a node\n",
    "for i, j in G.out_edges(\"E\"):\n",
    "    print(j)"
   ]
  },
  {
   "cell_type": "code",
   "execution_count": 6,
   "metadata": {},
   "outputs": [],
   "source": [
    "# alright, so let's implement the algorithm\n",
    "\n",
    "def pageRank(graph , d, number_of_iterations):\n",
    "    number_of_nodes = len(graph)\n",
    "    pr = dict() \n",
    "    pr_next = dict()\n",
    "    \n",
    "    # calculate the initial values\n",
    "    for n in graph.nodes():\n",
    "        pr[n] = 1 / number_of_nodes \n",
    "        pr_next[n] = (1 - d) / number_of_nodes\n",
    "        \n",
    "    for i in range(1, number_of_iterations): \n",
    "        # for all nodes in graph \n",
    "        for n in graph.nodes():\n",
    "            # compute the outgoing pr fraction \n",
    "            # (we won't calculate that for nodes, which have no outgoing edge e.g. A)\n",
    "            if len(list(graph.neighbors(n))) == 0:\n",
    "                continue\n",
    "            frac = pr[n] / len(list(graph.neighbors(n)))\n",
    "            # add fraction to all neighbors\n",
    "            for node, neighbor in graph.out_edges(n):\n",
    "                pr_next[neighbor] += d * frac \n",
    "                \n",
    "        # swap next and current\n",
    "        tmp = pr_next.copy()\n",
    "        pr_next = pr.copy()\n",
    "        pr = tmp\n",
    "        \n",
    "        # reset next\n",
    "        for n in graph.nodes():\n",
    "            pr_next[n] = (1 - d) / number_of_nodes\n",
    "    return pr"
   ]
  },
  {
   "cell_type": "code",
   "execution_count": 7,
   "metadata": {},
   "outputs": [
    {
     "data": {
      "text/plain": [
       "{'A': 0.027645936069112368,\n",
       " 'B': 0.32894219472177194,\n",
       " 'C': 0.28442824469593253,\n",
       " 'D': 0.03296369668812087,\n",
       " 'E': 0.0682141178872942,\n",
       " 'F': 0.03296369668812087,\n",
       " 'G': 0.01363636363636364,\n",
       " 'H': 0.01363636363636364,\n",
       " 'I': 0.01363636363636364,\n",
       " 'J': 0.01363636363636364,\n",
       " 'K': 0.01363636363636364}"
      ]
     },
     "execution_count": 7,
     "metadata": {},
     "output_type": "execute_result"
    }
   ],
   "source": [
    "# so let's see how our algorithm compares to the results of the wikipedia author\n",
    "pageRank(G, 0.85, 20)"
   ]
  },
  {
   "cell_type": "code",
   "execution_count": 8,
   "metadata": {},
   "outputs": [],
   "source": [
    "# cool, but if you want to validate your results calculated with pen and paper\n",
    "# the rounding gets really important, so let's round the values\n",
    "\n",
    "def pageRankRounded(graph , d, number_of_iterations, digits):\n",
    "    number_of_nodes = len(graph)\n",
    "    pr = dict() \n",
    "    pr_next = dict()\n",
    "    \n",
    "    # calculate the initial values\n",
    "    for n in graph.nodes():\n",
    "        pr[n] = round(1 / number_of_nodes, digits)\n",
    "        pr_next[n] = round((1 - d) / number_of_nodes, digits)\n",
    "        \n",
    "    for i in range(1, number_of_iterations): \n",
    "        # for all nodes in graph \n",
    "        for n in graph.nodes():\n",
    "            # compute the outgoing pr fraction \n",
    "            # (we won't calculate that for nodes, which have no outgoing edge e.g. A)\n",
    "            if len(list(graph.neighbors(n))) == 0:\n",
    "                continue\n",
    "            frac = round(pr[n] / len(list(graph.neighbors(n))), digits)\n",
    "            # add fraction to all neighbors\n",
    "            for node, neighbor in graph.out_edges(n):\n",
    "                pr_next[neighbor] += round(d * frac, digits)\n",
    "                \n",
    "        # swap next and current\n",
    "        tmp = pr_next.copy()\n",
    "        pr_next = pr.copy()\n",
    "        pr = tmp\n",
    "        \n",
    "        # reset next\n",
    "        for n in graph.nodes():\n",
    "            pr_next[n] = round((1 - d) / number_of_nodes, digits)\n",
    "    return pr"
   ]
  },
  {
   "cell_type": "code",
   "execution_count": 9,
   "metadata": {},
   "outputs": [
    {
     "data": {
      "text/plain": [
       "{'A': 0.0522,\n",
       " 'B': 0.30970000000000003,\n",
       " 'C': 0.0909,\n",
       " 'D': 0.0394,\n",
       " 'E': 0.3226,\n",
       " 'F': 0.0394,\n",
       " 'G': 0.0136,\n",
       " 'H': 0.0136,\n",
       " 'I': 0.0136,\n",
       " 'J': 0.0136,\n",
       " 'K': 0.0136}"
      ]
     },
     "execution_count": 9,
     "metadata": {},
     "output_type": "execute_result"
    }
   ],
   "source": [
    "pageRankRounded(G, 0.85, 2, 4)"
   ]
  }
 ],
 "metadata": {
  "kernelspec": {
   "display_name": "Python 3",
   "language": "python",
   "name": "python3"
  },
  "language_info": {
   "codemirror_mode": {
    "name": "ipython",
    "version": 3
   },
   "file_extension": ".py",
   "mimetype": "text/x-python",
   "name": "python",
   "nbconvert_exporter": "python",
   "pygments_lexer": "ipython3",
   "version": "3.8.5"
  }
 },
 "nbformat": 4,
 "nbformat_minor": 4
}
